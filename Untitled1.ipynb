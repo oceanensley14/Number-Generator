{
  "nbformat": 4,
  "nbformat_minor": 0,
  "metadata": {
    "colab": {
      "provenance": [],
      "authorship_tag": "ABX9TyNI2JQBdLZW+0GAq9K6Ufs2",
      "include_colab_link": true
    },
    "kernelspec": {
      "name": "python3",
      "display_name": "Python 3"
    },
    "language_info": {
      "name": "python"
    }
  },
  "cells": [
    {
      "cell_type": "markdown",
      "metadata": {
        "id": "view-in-github",
        "colab_type": "text"
      },
      "source": [
        "<a href=\"https://colab.research.google.com/github/oceanensley14/Number-Generator/blob/main/Untitled1.ipynb\" target=\"_parent\"><img src=\"https://colab.research.google.com/assets/colab-badge.svg\" alt=\"Open In Colab\"/></a>"
      ]
    },
    {
      "cell_type": "code",
      "execution_count": 12,
      "metadata": {
        "colab": {
          "base_uri": "https://localhost:8080/"
        },
        "id": "s8xOwNq3M70C",
        "outputId": "985b01c8-aa4c-48af-fbf2-d645d831bf47"
      },
      "outputs": [
        {
          "output_type": "stream",
          "name": "stdout",
          "text": [
            "How long should the password be?16\n",
            "Minimum Upper Case: 2\n",
            "Minimum Lower Case: 2\n",
            "Minimum Digits: 3\n",
            "Minimum Symbols: 3\n",
            "j#Fne!@29$45Stz8\n",
            "6bfxT!OSkEqws5LY\n",
            "DHyK4triWj9bnRFC\n"
          ]
        }
      ],
      "source": [
        "#modules I implemented\n",
        "import secrets\n",
        "import random\n",
        "#these are variables that help the code randomize the given password(s)\n",
        "lower = \"abcdefghijklmnopqrstuvwxyz\"\n",
        "upper = \"ABCDEFGHIJKLMNOPQRSTUVWXYZ\"\n",
        "digits = \"0123456789\"\n",
        "special = \"!@#$\"\n",
        "#this helps what to add in the given password\n",
        "allChars = lower + upper + digits + special\n",
        "#simple variable\n",
        "password = \"\"\n",
        "#this is the amount of given passwords I want to pick from\n",
        "amount = 3\n",
        "#this is the password length\n",
        "pwlen = int(input(\"How long should the password be?\"))\n",
        "#these are all the minimum requirments for what is needed in the password\n",
        "minUpper = int(input(\"Minimum Upper Case: \"))\n",
        "minLower = int(input(\"Minimum Lower Case: \"))\n",
        "minDig = int(input(\"Minimum Digits: \"))\n",
        "minSpec = int(input(\"Minimum Symbols: \"))\n",
        "#this set of code helps me randomize each charcter I have set into my variables in the beggining of my code\n",
        "for i in range(minUpper):\n",
        "  password += \"\".join(random.choice(secrets.choice(upper)))\n",
        "for i in range(minLower):\n",
        "  password += \"\".join(random.choice(secrets.choice(lower)))\n",
        "for i in range(minDig):\n",
        "  password += \"\".join(random.choice(secrets.choice(digits)))\n",
        "for i in range(minSpec):\n",
        "  password += \"\".join(random.choice(secrets.choice(special)))\n",
        "#I use this for the remaining set charcters after the requriments the code needs in order to process the code\n",
        "remaining = pwlen - minLower - minUpper - minDig - minSpec\n",
        "#this places all the minimum requriments to not be in order from seqeuntial code\n",
        "for i in range(remaining):\n",
        "  password += \"\".join(random.choice(secrets.choice(allChars)))\n",
        "password = list(password)\n",
        "random.shuffle(password)\n",
        "#this prints out the 3 sets of code I wanted\n",
        "for x in range(amount):\n",
        "  password = \"\".join(random.sample(allChars, pwlen))\n",
        "  print(\"\".join(password))\n"
      ]
    }
  ]
}