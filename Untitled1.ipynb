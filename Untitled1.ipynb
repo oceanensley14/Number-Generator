{
  "nbformat": 4,
  "nbformat_minor": 0,
  "metadata": {
    "colab": {
      "provenance": [],
      "authorship_tag": "ABX9TyOORMJQGuIR5dWZeLY1sF9F",
      "include_colab_link": true
    },
    "kernelspec": {
      "name": "python3",
      "display_name": "Python 3"
    },
    "language_info": {
      "name": "python"
    }
  },
  "cells": [
    {
      "cell_type": "markdown",
      "metadata": {
        "id": "view-in-github",
        "colab_type": "text"
      },
      "source": [
        "<a href=\"https://colab.research.google.com/github/oceanensley14/Number-Generator/blob/main/Untitled1.ipynb\" target=\"_parent\"><img src=\"https://colab.research.google.com/assets/colab-badge.svg\" alt=\"Open In Colab\"/></a>"
      ]
    },
    {
      "cell_type": "code",
      "execution_count": 6,
      "metadata": {
        "colab": {
          "base_uri": "https://localhost:8080/"
        },
        "id": "s8xOwNq3M70C",
        "outputId": "7358a927-f1f8-4dd1-e199-40a5fdea8866"
      },
      "outputs": [
        {
          "output_type": "stream",
          "name": "stdout",
          "text": [
            "How long should the password be?16\n",
            "Minimum Upper Case: 2\n",
            "Minimum Lower Case: 2\n",
            "Minimum Digits: 3\n",
            "Minimum Symbols: 3\n",
            "7.DxQ+{J*KcAUI3u\n",
            "KFWuO_aZD#iw8:c;\n",
            "rN3}FODAhJk\\#d{?\n"
          ]
        }
      ],
      "source": [
        "import secrets\n",
        "import string\n",
        "import random\n",
        "lower = string.ascii_lowercase\n",
        "upper = string.ascii_uppercase\n",
        "digits = string.digits\n",
        "special = string.punctuation\n",
        "allChars = lower + upper + digits + special\n",
        "password = \"\"\n",
        "amount = 3\n",
        "pwlen = int(input(\"How long should the password be?\"))\n",
        "minUpper = int(input(\"Minimum Upper Case: \"))\n",
        "minLower = int(input(\"Minimum Lower Case: \"))\n",
        "minDig = int(input(\"Minimum Digits: \"))\n",
        "minSpec = int(input(\"Minimum Symbols: \"))\n",
        "for i in range(minUpper):\n",
        "  password += \"\".join(random.choice(secrets.choice(upper)))\n",
        "for i in range(minLower):\n",
        "  password += \"\".join(random.choice(secrets.choice(lower)))\n",
        "for i in range(minDig):\n",
        "  password += \"\".join(random.choice(secrets.choice(digits)))\n",
        "for i in range(minSpec):\n",
        "  password += \"\".join(random.choice(secrets.choice(special)))\n",
        "remaining = pwlen - minLower - minUpper - minDig - minSpec\n",
        "for i in range(remaining):\n",
        "  password += \"\".join(random.choice(secrets.choice(allChars)))\n",
        "password = list(password)\n",
        "random.shuffle(password)\n",
        "for x in range(amount):\n",
        "  password = \"\".join(random.sample(all, pwlen))\n",
        "  print(\"\".join(password))\n"
      ]
    }
  ]
}